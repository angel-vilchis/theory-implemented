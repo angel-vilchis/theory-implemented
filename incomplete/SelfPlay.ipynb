{
 "cells": [
  {
   "cell_type": "markdown",
   "id": "659af5c9",
   "metadata": {},
   "source": [
    "## Self-Play"
   ]
  },
  {
   "cell_type": "code",
   "execution_count": null,
   "id": "98776b28",
   "metadata": {},
   "outputs": [],
   "source": [
    "class Chess:\n",
    "    PAWN = 1\n",
    "    KING = 6\n",
    "    KING_START = [(0,4), (7,4)]\n",
    "    QUEEN = 5\n",
    "    QUEEN_START = [(0,3), (7,3)]\n",
    "    ROOK = 4\n",
    "    ROOK_START = [(0,0), (7,7), (0, 7), (7, 0)]\n",
    "    BISHOP = 3\n",
    "    BISHOP_START = [(0,2), (7,2), (0,5), (7,5)]\n",
    "    KNIGHT = 2\n",
    "    KNIGHT_START = [(0,1), (0,6), (7,1), (7,6)]\n",
    "    \n",
    "    def __init__(self):\n",
    "        self.game = self.start_board()\n",
    "        print(self.game)\n",
    "        \n",
    "    def start_board(self):\n",
    "        start = np.zeros((8,8), dtype=int)\n",
    "        start[1] = np.full((1,8), Chess.PAWN)\n",
    "        start[6] = np.full((1,8), Chess.PAWN)\n",
    "        for ind in Chess.QUEEN_START:\n",
    "            start[ind] = Chess.QUEEN\n",
    "        for ind in Chess.KING_START:\n",
    "            start[ind] = Chess.KING\n",
    "        for ind in Chess.BISHOP_START:\n",
    "            start[ind] = Chess.BISHOP\n",
    "        for ind in Chess.ROOK_START:\n",
    "            start[ind] = Chess.ROOK\n",
    "        for ind in Chess.KNIGHT_START:\n",
    "            start[ind] = Chess.KNIGHT\n",
    "        start[0] = -start[0]\n",
    "        start[1] = -start[1]\n",
    "        return start\n",
    "    \n",
    "    def is_valid_move(start_pos, end_pos):\n",
    "        pass\n",
    "    \n",
    "class SelfPlay:\n",
    "    def __init__(self):\n",
    "        pass\n",
    "    \n",
    "    def __call__(self, state):\n",
    "        return self.predict(state)\n",
    "    \n",
    "    def predict(self, state):\n",
    "        pass\n",
    "    \n",
    "game = Chess()"
   ]
  }
 ],
 "metadata": {
  "kernelspec": {
   "display_name": "Python 3 (ipykernel)",
   "language": "python",
   "name": "python3"
  },
  "language_info": {
   "codemirror_mode": {
    "name": "ipython",
    "version": 3
   },
   "file_extension": ".py",
   "mimetype": "text/x-python",
   "name": "python",
   "nbconvert_exporter": "python",
   "pygments_lexer": "ipython3",
   "version": "3.9.13"
  }
 },
 "nbformat": 4,
 "nbformat_minor": 5
}
